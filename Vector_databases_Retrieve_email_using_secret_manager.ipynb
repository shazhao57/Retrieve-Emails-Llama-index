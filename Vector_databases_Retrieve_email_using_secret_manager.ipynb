{
  "cells": [
    {
      "cell_type": "markdown",
      "metadata": {
        "id": "view-in-github",
        "colab_type": "text"
      },
      "source": [
        "<a href=\"https://colab.research.google.com/github/shazhao57/Retrieve-Emails-Llama-index/blob/main/Vector_databases_Retrieve_email_using_secret_manager.ipynb\" target=\"_parent\"><img src=\"https://colab.research.google.com/assets/colab-badge.svg\" alt=\"Open In Colab\"/></a>"
      ]
    },
    {
      "cell_type": "markdown",
      "source": [
        "# Pip Installation"
      ],
      "metadata": {
        "id": "P7ez_waEi-D5"
      }
    },
    {
      "cell_type": "code",
      "execution_count": null,
      "metadata": {
        "id": "yTV6nfrJFiSu"
      },
      "outputs": [],
      "source": [
        "!pip install llama-index"
      ]
    },
    {
      "cell_type": "code",
      "execution_count": null,
      "metadata": {
        "id": "JwnRkuPHJ97j"
      },
      "outputs": [],
      "source": [
        "!pip install google-cloud-secret-manager"
      ]
    },
    {
      "cell_type": "code",
      "execution_count": null,
      "metadata": {
        "colab": {
          "base_uri": "https://localhost:8080/"
        },
        "id": "i3oxnJk_FjXk",
        "outputId": "b2613fd5-4a10-4292-b078-45afcd3a5a90"
      },
      "outputs": [
        {
          "name": "stdout",
          "output_type": "stream",
          "text": [
            "Drive already mounted at /content/drive; to attempt to forcibly remount, call drive.mount(\"/content/drive\", force_remount=True).\n"
          ]
        }
      ],
      "source": [
        "#from google.colab import drive\n",
        "#drive.mount('/content/drive')"
      ]
    },
    {
      "cell_type": "markdown",
      "source": [
        "# Retrieve emails"
      ],
      "metadata": {
        "id": "L8HjvuP6jNJa"
      }
    },
    {
      "cell_type": "code",
      "execution_count": 3,
      "metadata": {
        "id": "nTho2vSGKa0y"
      },
      "outputs": [],
      "source": [
        "from google.colab import auth\n",
        "from google.colab import drive\n",
        "\n",
        "auth.authenticate_user()"
      ]
    },
    {
      "cell_type": "code",
      "execution_count": 4,
      "metadata": {
        "id": "d7VEfv71KCeK"
      },
      "outputs": [],
      "source": [
        "from google.cloud import secretmanager_v1 as secretmanager\n",
        "from google.auth import default as google_auth\n",
        "\n",
        "# Replace the existing import statements\n",
        "import googleapiclient.discovery\n",
        "import googleapiclient.errors\n",
        "\n"
      ]
    },
    {
      "cell_type": "code",
      "source": [
        "\"\"\"Google Mail reader.\"\"\"\n",
        "import email\n",
        "from typing import Any, List\n",
        "from llama_index.readers.base import BaseReader\n",
        "from llama_index.readers.schema.base import Document\n",
        "from pydantic import BaseModel\n",
        "import base64\n",
        "\n",
        "SCOPES = [\"https://www.googleapis.com/auth/gmail.readonly\"]\n",
        "\n",
        "\n",
        "class GmailReader(BaseReader, BaseModel):\n",
        "    \"\"\"Gmail reader.\n",
        "\n",
        "    Reads emails\n",
        "\n",
        "    Args:\n",
        "        query (str): Gmail query. Defaults to None.\n",
        "        max_results (int): Max number of results. Defaults to 10.\n",
        "    \"\"\"\n",
        "    query: str = None\n",
        "    use_iterative_parser: bool = False\n",
        "    max_results: int = 10\n",
        "    service: Any\n",
        "\n",
        "\n",
        "    def load_data(\n",
        "        self\n",
        "    ) -> List[Document]:\n",
        "        \"\"\"Load emails from the user's account\n",
        "        \"\"\"\n",
        "        from googleapiclient.discovery import build\n",
        "\n",
        "        credentials = self._get_credentials()\n",
        "        import json\n",
        "        from google.oauth2.credentials import Credentials\n",
        "\n",
        "        #credentials is a JSON string\n",
        "        credentials_json = credentials\n",
        "\n",
        "        # Load the JSON string into a dictionary\n",
        "        credentials_dict = json.loads(credentials_json)\n",
        "\n",
        "        #Create Google API credentials object\n",
        "        credentials1 = Credentials.from_authorized_user_info(credentials_dict)\n",
        "\n",
        "\n",
        "        # use authorized credentials object in the build_resource_service function\n",
        "        #api_resource = build_resource_service(credentials = credentials1)\n",
        "\n",
        "        if not self.service:\n",
        "            self.service = build('gmail', 'v1', credentials=credentials1)\n",
        "\n",
        "        messsages = self.search_messages()\n",
        "\n",
        "        results = []\n",
        "        for message in messsages:\n",
        "            text = message.pop('body')\n",
        "            #extra_info = message\n",
        "            #results.append(Document(text, extra_info=extra_info))\n",
        "            results.append(Document(text))\n",
        "\n",
        "        return results\n",
        "\n",
        "    def _get_credentials(self) -> Any:\n",
        "        secret_name = 'token'\n",
        "        project_id = 'vivid-kite-315522'\n",
        "\n",
        "        # Create the Secret Manager client\n",
        "        client = secretmanager.SecretManagerServiceClient()\n",
        "\n",
        "        # Build the secret name path\n",
        "        secret_path = f\"projects/{project_id}/secrets/{secret_name}/versions/latest\"\n",
        "\n",
        "        # Access the secret version\n",
        "        response = client.access_secret_version(request={\"name\": secret_path})\n",
        "\n",
        "        # Retrieve the secret value\n",
        "        secret_value = response.payload.data.decode(\"UTF-8\")\n",
        "\n",
        "        # Use the secret value as your credentials\n",
        "        return secret_value\n",
        "\n",
        "        # Retrieve the credentials from Secret Manager\n",
        "\n",
        "\n",
        "\n",
        "\n",
        "\n",
        "    def search_messages(self):\n",
        "        query = self.query\n",
        "\n",
        "        max_results = self.max_results\n",
        "\n",
        "        messages = self.service.users().messages().list(\n",
        "            userId='me',\n",
        "            q=query,\n",
        "            maxResults=int(max_results)\n",
        "        ).execute().get('messages', [])\n",
        "\n",
        "        result = []\n",
        "        try:\n",
        "            for message in messages:\n",
        "                message_data = self.get_message_data(message)\n",
        "                if not message_data:\n",
        "                    continue\n",
        "                result.append(message_data)\n",
        "        except Exception as e:\n",
        "            raise Exception(\"Can't get message data\" + str(e))\n",
        "\n",
        "        return result\n",
        "\n",
        "    def get_message_data(self, message):\n",
        "        message_id = message['id']\n",
        "        message_data = self.service.users().messages().get(\n",
        "            format=\"raw\",\n",
        "            userId='me',\n",
        "            id=message_id).execute()\n",
        "        if self.use_iterative_parser:\n",
        "            body = self.extract_message_body_iterative(message_data)\n",
        "        else:\n",
        "            body = self.extract_message_body(message_data)\n",
        "\n",
        "        if not body:\n",
        "            return None\n",
        "\n",
        "        return {\n",
        "            #\"id\": message_data['id'],\n",
        "            #\"threadId\": message_data['threadId'],\n",
        "            #\"snippet\": message_data['snippet'],\n",
        "            \"body\": body,\n",
        "        }\n",
        "\n",
        "    def extract_message_body_iterative(self, message:dict):\n",
        "        if message['raw']:\n",
        "            body = base64.urlsafe_b64decode(message['raw'].encode('utf8'))\n",
        "            mime_msg = email.message_from_bytes(body)\n",
        "        else:\n",
        "            mime_msg = message\n",
        "\n",
        "        body_text = ''\n",
        "        if mime_msg.get_content_type() == 'text/plain':\n",
        "            plain_text = mime_msg.get_payload(decode=True)\n",
        "            charset = mime_msg.get_content_charset('utf-8')\n",
        "            body_text = plain_text.decode(charset).encode('utf-8').decode('utf-8')\n",
        "\n",
        "        elif mime_msg.get_content_maintype() == 'multipart':\n",
        "            msg_parts = mime_msg.get_payload()\n",
        "            for msg_part in msg_parts:\n",
        "                body_text += self.extract_message_body_iterative(msg_part)\n",
        "\n",
        "        return body_text\n",
        "\n",
        "    def extract_message_body(self, message: dict):\n",
        "        from bs4 import BeautifulSoup\n",
        "        try:\n",
        "            body = base64.urlsafe_b64decode(message['raw'].encode('ASCII'))\n",
        "            mime_msg = email.message_from_bytes(body)\n",
        "\n",
        "            # If the message body contains HTML, parse it with BeautifulSoup\n",
        "            if 'text/html' in mime_msg:\n",
        "                soup = BeautifulSoup(body, 'html.parser')\n",
        "                body = soup.get_text()\n",
        "            return body.decode(\"ascii\")\n",
        "        except Exception as e:\n",
        "            raise Exception(\"Can't parse message body\" + str(e))\n",
        "\n"
      ],
      "metadata": {
        "id": "g47sRVSoCXsB"
      },
      "execution_count": 5,
      "outputs": []
    },
    {
      "cell_type": "markdown",
      "source": [
        "# Store emails into vector database and make a query"
      ],
      "metadata": {
        "id": "v3NZwl1qjXpx"
      }
    },
    {
      "cell_type": "code",
      "source": [
        "\n",
        "import openai\n",
        "import os\n",
        "import json\n",
        "\n",
        "from google.cloud import secretmanager\n",
        "\n",
        "# Set up the Secret Manager client\n",
        "client1 = secretmanager.SecretManagerServiceClient()\n",
        "name1 = \"projects/339902708114/secrets/openai_api_key/versions/latest\"\n",
        "response1 = client1.access_secret_version(request={\"name\": name1})\n",
        "\n",
        "# Retrieve the API key from the secret\n",
        "api_key1 = response1.payload.data.decode(\"UTF-8\")\n",
        "\n",
        "# Set the OpenAI API key\n",
        "openai.api_key = api_key1\n",
        "os.environ[\"OPENAI_API_KEY\"]=api_key1\n",
        "\n",
        "from llama_index import VectorStoreIndex\n",
        "from langchain.embeddings.huggingface import HuggingFaceInstructEmbeddings\n",
        "from llama_index import LangchainEmbedding,ServiceContext\n",
        "\n",
        "if __name__ == \"__main__\":\n",
        "    reader = GmailReader(query=\"from:me after:2023-06-14\")\n",
        "    documents = reader.load_data()\n",
        "    index = VectorStoreIndex.from_documents(documents)\n",
        "\n",
        "    print(index)\n",
        "\n",
        "    query_engine = index.as_query_engine()\n",
        "    response = query_engine.query(\"What is the subject of the recent email\")\n",
        "    print(response)"
      ],
      "metadata": {
        "colab": {
          "base_uri": "https://localhost:8080/"
        },
        "id": "UkhbJbP2mF01",
        "outputId": "80841f07-7186-4a06-92eb-8b1fb078ab71"
      },
      "execution_count": 6,
      "outputs": [
        {
          "output_type": "stream",
          "name": "stdout",
          "text": [
            "<llama_index.indices.vector_store.base.VectorStoreIndex object at 0x7f49981c1000>\n",
            "\n",
            "The subject of the recent email is \"Learning LlamaIndex\".\n"
          ]
        }
      ]
    },
    {
      "cell_type": "markdown",
      "source": [
        "# Another way to save it in vector database and make a query"
      ],
      "metadata": {
        "id": "KcT4PMp5SveO"
      }
    },
    {
      "cell_type": "code",
      "source": [
        "!pip install sentence_transformers"
      ],
      "metadata": {
        "id": "FzI-ozmHIn-T"
      },
      "execution_count": null,
      "outputs": []
    },
    {
      "cell_type": "code",
      "source": [
        "!pip install InstructorEmbedding"
      ],
      "metadata": {
        "colab": {
          "base_uri": "https://localhost:8080/"
        },
        "id": "58PrDVK6IpPs",
        "outputId": "43f91c4d-b52d-44b1-86a0-3d220cc4d787"
      },
      "execution_count": null,
      "outputs": [
        {
          "output_type": "stream",
          "name": "stdout",
          "text": [
            "Looking in indexes: https://pypi.org/simple, https://us-python.pkg.dev/colab-wheels/public/simple/\n",
            "Collecting InstructorEmbedding\n",
            "  Downloading InstructorEmbedding-1.0.1-py2.py3-none-any.whl (19 kB)\n",
            "Installing collected packages: InstructorEmbedding\n",
            "Successfully installed InstructorEmbedding-1.0.1\n"
          ]
        }
      ]
    },
    {
      "cell_type": "code",
      "source": [
        "from google.cloud import secretmanager\n",
        "\n",
        "# Set up the Secret Manager client\n",
        "client1 = secretmanager.SecretManagerServiceClient()\n",
        "name1 = \"projects/339902708114/secrets/openai_api_key/versions/latest\"\n",
        "response1 = client1.access_secret_version(request={\"name\": name1})\n",
        "\n",
        "# Retrieve the API key from the secret\n",
        "api_key1 = response1.payload.data.decode(\"UTF-8\")\n",
        "\n",
        "# Set the OpenAI API key\n",
        "openai.api_key = api_key1\n",
        "os.environ[\"OPENAI_API_KEY\"]=api_key1"
      ],
      "metadata": {
        "id": "m3ubll_lPkn6"
      },
      "execution_count": null,
      "outputs": []
    },
    {
      "cell_type": "code",
      "source": [
        "import openai\n",
        "import os\n",
        "import json\n",
        "\n",
        "from llama_index import VectorStoreIndex\n",
        "\n",
        "from langchain.embeddings.huggingface import HuggingFaceInstructEmbeddings\n",
        "from llama_index import LangchainEmbedding, ServiceContext, VectorStoreIndex\n",
        "\n",
        "if __name__ == \"__main__\":\n",
        "    # Create the embedding model\n",
        "    embed_model = LangchainEmbedding(HuggingFaceInstructEmbeddings())\n",
        "\n",
        "    # Create the service context\n",
        "    service_context = ServiceContext.from_defaults(embed_model=embed_model)\n",
        "\n",
        "    # Load the documents\n",
        "    reader = GmailReader(query=\"from:me after:2023-06-14\")\n",
        "    documents = reader.load_data()\n",
        "\n",
        "    # Create the vector index\n",
        "    index = VectorStoreIndex.from_documents(documents, service_context=service_context)\n",
        "\n",
        "    # Print the index\n",
        "    print(index)\n",
        "    query_engine = index.as_query_engine()\n",
        "    response = query_engine.query(\"What is the subject of the recent email\")\n",
        "    print(response)\n"
      ],
      "metadata": {
        "colab": {
          "base_uri": "https://localhost:8080/"
        },
        "id": "egY0XNlfPppe",
        "outputId": "ebb45783-43a2-4056-a39a-343f4c76f23b"
      },
      "execution_count": null,
      "outputs": [
        {
          "output_type": "stream",
          "name": "stdout",
          "text": [
            "load INSTRUCTOR_Transformer\n",
            "max_seq_length  512\n",
            "<llama_index.indices.vector_store.base.VectorStoreIndex object at 0x7f474acf5810>\n",
            "\n",
            "The subject of the recent email is \"Learning LlamaIndex\".\n"
          ]
        }
      ]
    },
    {
      "cell_type": "markdown",
      "source": [
        "# Try if openai works"
      ],
      "metadata": {
        "id": "WWbKCIiuSm1C"
      }
    },
    {
      "cell_type": "code",
      "source": [
        "from langchain.llms import OpenAI\n",
        "llm= OpenAI(model_name=\"gpt-3.5-turbo\")\n",
        "llm(\"What's 5 to the 8th power\") #simple test query"
      ],
      "metadata": {
        "colab": {
          "base_uri": "https://localhost:8080/",
          "height": 35
        },
        "id": "mW7s0I5RO41m",
        "outputId": "7d635b99-b1c0-4236-ee1f-3d78a02ca32b"
      },
      "execution_count": null,
      "outputs": [
        {
          "output_type": "execute_result",
          "data": {
            "text/plain": [
              "'39,0625'"
            ],
            "application/vnd.google.colaboratory.intrinsic+json": {
              "type": "string"
            }
          },
          "metadata": {},
          "execution_count": 50
        }
      ]
    },
    {
      "cell_type": "markdown",
      "metadata": {
        "id": "2FmBWmLzKmNa"
      },
      "source": []
    }
  ],
  "metadata": {
    "colab": {
      "provenance": [],
      "include_colab_link": true
    },
    "kernelspec": {
      "display_name": "Python 3",
      "name": "python3"
    },
    "language_info": {
      "name": "python"
    }
  },
  "nbformat": 4,
  "nbformat_minor": 0
}